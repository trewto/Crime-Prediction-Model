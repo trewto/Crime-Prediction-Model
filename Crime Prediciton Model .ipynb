{
 "cells": [
  {
   "cell_type": "code",
   "execution_count": 1,
   "metadata": {},
   "outputs": [],
   "source": [
    "import pandas as pd\n",
    "import numpy as np\n",
    "\n",
    "# Set random seed for reproducibility\n",
    "np.random.seed(42)\n",
    "\n",
    "# Number of samples\n",
    "num_samples = 5000\n",
    "\n",
    "# Generating synthetic data\n",
    "data = {\n",
    "    \"mode\": np.random.choice([\"walk\", \"bus\", \"rikshaw\", \"cycle\", \"bike\"], num_samples),\n",
    "    \"time\": np.random.randint(1, 25, num_samples),\n",
    "    \"day\": np.random.choice([\"Monday\", \"Tuesday\", \"Wednesday\", \"Thursday\", \"Friday\", \"Saturday\", \"Sunday\"], num_samples),\n",
    "    \"human_density\": np.random.uniform(0, 1, num_samples),  # 0 (low) to 1 (high)\n",
    "    \"light_condition\": np.random.randint(10, 1000, num_samples),  # in lumens\n",
    "    \"loadshedding\": np.random.choice([0, 1], num_samples),  # 0 = No, 1 = Yes\n",
    "    \"affected_people\": np.random.choice([\"alone\", \"1\", \"2\", \"3+\"], num_samples),\n",
    "    \"nearest_thana_km\": np.random.uniform(0.1, 10, num_samples),\n",
    "    \"nearest_market_km\": np.random.uniform(0.1, 5, num_samples),\n",
    "    \"nearest_busy_road_km\": np.random.uniform(0.1, 3, num_samples),\n",
    "    \"was_road_busy\": np.random.choice([0, 1], num_samples),  # 0 = No, 1 = Yes\n",
    "\n",
    "    # Personal Details (for Model 2)\n",
    "    \"dress\": np.random.choice([\"well_dressed\", \"normal\", \"attractive\"], num_samples),\n",
    "    \"age\": np.random.randint(15, 70, num_samples),\n",
    "    \"gender\": np.random.choice([\"male\", \"female\"], num_samples),\n",
    "    \"financial_status\": np.random.randint(1, 11, num_samples),  # 1 (poor) to 10 (rich)\n",
    "\n",
    "    # Target Variable (Binary: Snatched or Not)\n",
    "    \"snatched\": np.random.choice([0, 1], num_samples, p=[0.85, 0.15])  # Assuming 15% incidents occur\n",
    "}\n",
    "\n",
    "# Create DataFrame\n",
    "df = pd.DataFrame(data)\n",
    "\n"
   ]
  },
  {
   "cell_type": "code",
   "execution_count": 2,
   "metadata": {},
   "outputs": [
    {
     "data": {
      "text/html": [
       "<div>\n",
       "<style scoped>\n",
       "    .dataframe tbody tr th:only-of-type {\n",
       "        vertical-align: middle;\n",
       "    }\n",
       "\n",
       "    .dataframe tbody tr th {\n",
       "        vertical-align: top;\n",
       "    }\n",
       "\n",
       "    .dataframe thead th {\n",
       "        text-align: right;\n",
       "    }\n",
       "</style>\n",
       "<table border=\"1\" class=\"dataframe\">\n",
       "  <thead>\n",
       "    <tr style=\"text-align: right;\">\n",
       "      <th></th>\n",
       "      <th>mode</th>\n",
       "      <th>time</th>\n",
       "      <th>day</th>\n",
       "      <th>human_density</th>\n",
       "      <th>light_condition</th>\n",
       "      <th>loadshedding</th>\n",
       "      <th>affected_people</th>\n",
       "      <th>nearest_thana_km</th>\n",
       "      <th>nearest_market_km</th>\n",
       "      <th>nearest_busy_road_km</th>\n",
       "      <th>was_road_busy</th>\n",
       "      <th>dress</th>\n",
       "      <th>age</th>\n",
       "      <th>gender</th>\n",
       "      <th>financial_status</th>\n",
       "      <th>snatched</th>\n",
       "    </tr>\n",
       "  </thead>\n",
       "  <tbody>\n",
       "    <tr>\n",
       "      <th>0</th>\n",
       "      <td>cycle</td>\n",
       "      <td>23</td>\n",
       "      <td>Sunday</td>\n",
       "      <td>0.743629</td>\n",
       "      <td>908</td>\n",
       "      <td>1</td>\n",
       "      <td>3+</td>\n",
       "      <td>3.315466</td>\n",
       "      <td>0.581408</td>\n",
       "      <td>2.777295</td>\n",
       "      <td>0</td>\n",
       "      <td>normal</td>\n",
       "      <td>37</td>\n",
       "      <td>female</td>\n",
       "      <td>6</td>\n",
       "      <td>0</td>\n",
       "    </tr>\n",
       "    <tr>\n",
       "      <th>1</th>\n",
       "      <td>bike</td>\n",
       "      <td>16</td>\n",
       "      <td>Thursday</td>\n",
       "      <td>0.985807</td>\n",
       "      <td>167</td>\n",
       "      <td>1</td>\n",
       "      <td>3+</td>\n",
       "      <td>8.478146</td>\n",
       "      <td>3.484154</td>\n",
       "      <td>2.021968</td>\n",
       "      <td>0</td>\n",
       "      <td>attractive</td>\n",
       "      <td>61</td>\n",
       "      <td>male</td>\n",
       "      <td>2</td>\n",
       "      <td>0</td>\n",
       "    </tr>\n",
       "    <tr>\n",
       "      <th>2</th>\n",
       "      <td>rikshaw</td>\n",
       "      <td>14</td>\n",
       "      <td>Saturday</td>\n",
       "      <td>0.667190</td>\n",
       "      <td>737</td>\n",
       "      <td>1</td>\n",
       "      <td>2</td>\n",
       "      <td>9.063393</td>\n",
       "      <td>4.131960</td>\n",
       "      <td>2.860186</td>\n",
       "      <td>0</td>\n",
       "      <td>well_dressed</td>\n",
       "      <td>16</td>\n",
       "      <td>male</td>\n",
       "      <td>4</td>\n",
       "      <td>0</td>\n",
       "    </tr>\n",
       "    <tr>\n",
       "      <th>3</th>\n",
       "      <td>bike</td>\n",
       "      <td>10</td>\n",
       "      <td>Friday</td>\n",
       "      <td>0.244840</td>\n",
       "      <td>905</td>\n",
       "      <td>0</td>\n",
       "      <td>alone</td>\n",
       "      <td>4.573637</td>\n",
       "      <td>4.267402</td>\n",
       "      <td>1.790158</td>\n",
       "      <td>1</td>\n",
       "      <td>attractive</td>\n",
       "      <td>56</td>\n",
       "      <td>male</td>\n",
       "      <td>7</td>\n",
       "      <td>1</td>\n",
       "    </tr>\n",
       "    <tr>\n",
       "      <th>4</th>\n",
       "      <td>bike</td>\n",
       "      <td>7</td>\n",
       "      <td>Saturday</td>\n",
       "      <td>0.716554</td>\n",
       "      <td>822</td>\n",
       "      <td>0</td>\n",
       "      <td>alone</td>\n",
       "      <td>0.189725</td>\n",
       "      <td>3.244058</td>\n",
       "      <td>1.439025</td>\n",
       "      <td>0</td>\n",
       "      <td>normal</td>\n",
       "      <td>18</td>\n",
       "      <td>male</td>\n",
       "      <td>1</td>\n",
       "      <td>0</td>\n",
       "    </tr>\n",
       "  </tbody>\n",
       "</table>\n",
       "</div>"
      ],
      "text/plain": [
       "      mode  time       day  human_density  light_condition  loadshedding  \\\n",
       "0    cycle    23    Sunday       0.743629              908             1   \n",
       "1     bike    16  Thursday       0.985807              167             1   \n",
       "2  rikshaw    14  Saturday       0.667190              737             1   \n",
       "3     bike    10    Friday       0.244840              905             0   \n",
       "4     bike     7  Saturday       0.716554              822             0   \n",
       "\n",
       "  affected_people  nearest_thana_km  nearest_market_km  nearest_busy_road_km  \\\n",
       "0              3+          3.315466           0.581408              2.777295   \n",
       "1              3+          8.478146           3.484154              2.021968   \n",
       "2               2          9.063393           4.131960              2.860186   \n",
       "3           alone          4.573637           4.267402              1.790158   \n",
       "4           alone          0.189725           3.244058              1.439025   \n",
       "\n",
       "   was_road_busy         dress  age  gender  financial_status  snatched  \n",
       "0              0        normal   37  female                 6         0  \n",
       "1              0    attractive   61    male                 2         0  \n",
       "2              0  well_dressed   16    male                 4         0  \n",
       "3              1    attractive   56    male                 7         1  \n",
       "4              0        normal   18    male                 1         0  "
      ]
     },
     "execution_count": 2,
     "metadata": {},
     "output_type": "execute_result"
    }
   ],
   "source": [
    "# Display first few rows\n",
    "df.head()\n"
   ]
  },
  {
   "cell_type": "code",
   "execution_count": 3,
   "metadata": {},
   "outputs": [],
   "source": [
    "import pandas as pd\n",
    "import numpy as np\n",
    "from sklearn.model_selection import train_test_split\n",
    "from sklearn.preprocessing import StandardScaler, OneHotEncoder\n",
    "from sklearn.ensemble import RandomForestClassifier\n",
    "from sklearn.pipeline import Pipeline\n",
    "from sklearn.compose import ColumnTransformer\n",
    "from sklearn.metrics import accuracy_score, classification_report"
   ]
  },
  {
   "cell_type": "code",
   "execution_count": 5,
   "metadata": {},
   "outputs": [],
   "source": [
    "\n",
    "# Define features for Model 1 (location-based hazard assessment)\n",
    "features_model1 = [\"mode\", \"time\", \"day\", \"human_density\", \"light_condition\", \"loadshedding\",\n",
    "                   \"affected_people\", \"nearest_thana_km\", \"nearest_market_km\", \"nearest_busy_road_km\", \"was_road_busy\"]\n",
    "\n",
    "# Define features for Model 2 (personalized risk assessment)\n",
    "features_model2 = features_model1 + [\"dress\", \"age\", \"gender\", \"financial_status\"]"
   ]
  },
  {
   "cell_type": "code",
   "execution_count": 6,
   "metadata": {},
   "outputs": [],
   "source": [
    "\n",
    "# Define target variable\n",
    "target = \"snatched\"\n",
    "\n",
    "# Preprocessing: Categorical encoding + Scaling numerical values\n",
    "categorical_features = [\"mode\", \"day\", \"affected_people\"]  # Categorical for both models\n",
    "categorical_features_model2 = categorical_features + [\"dress\", \"gender\"]  # Additional for Model 2"
   ]
  },
  {
   "cell_type": "code",
   "execution_count": 10,
   "metadata": {},
   "outputs": [],
   "source": [
    "num_features = list(set(features_model1) - set(categorical_features))\n",
    "num_features_model2 = list(set(features_model2) - set(categorical_features_model2))\n"
   ]
  },
  {
   "cell_type": "code",
   "execution_count": 8,
   "metadata": {},
   "outputs": [],
   "source": [
    "def create_pipeline(categorical_features, num_features):\n",
    "    preprocessor = ColumnTransformer([\n",
    "        (\"num\", StandardScaler(), num_features),  # Scale numerical features\n",
    "        (\"cat\", OneHotEncoder(handle_unknown='ignore'), categorical_features)  # Encode categorical features\n",
    "    ])\n",
    "    \n",
    "    return Pipeline([\n",
    "        (\"preprocessor\", preprocessor),  # Apply preprocessing\n",
    "        (\"classifier\", RandomForestClassifier(n_estimators=100, random_state=42))  # Train Random Forest model\n",
    "    ])\n"
   ]
  },
  {
   "cell_type": "code",
   "execution_count": 9,
   "metadata": {},
   "outputs": [],
   "source": [
    "def train_model(features, categorical_features, num_features):\n",
    "    X = df[features]\n",
    "    y = df[target]\n",
    "    \n",
    "    X_train, X_test, y_train, y_test = train_test_split(X, y, test_size=0.2, random_state=42)\n",
    "    model = create_pipeline(categorical_features, num_features)\n",
    "    model.fit(X_train, y_train)\n",
    "    y_pred = model.predict(X_test)\n",
    "    print(\"Accuracy:\", accuracy_score(y_test, y_pred))\n",
    "    print(classification_report(y_test, y_pred))\n",
    "    return model"
   ]
  },
  {
   "cell_type": "code",
   "execution_count": 11,
   "metadata": {},
   "outputs": [
    {
     "name": "stdout",
     "output_type": "stream",
     "text": [
      "Model 1 (Location Hazard Analysis):\n",
      "Accuracy: 0.84\n",
      "              precision    recall  f1-score   support\n",
      "\n",
      "           0       0.84      1.00      0.91       840\n",
      "           1       0.00      0.00      0.00       160\n",
      "\n",
      "    accuracy                           0.84      1000\n",
      "   macro avg       0.42      0.50      0.46      1000\n",
      "weighted avg       0.71      0.84      0.77      1000\n",
      "\n"
     ]
    },
    {
     "name": "stderr",
     "output_type": "stream",
     "text": [
      "C:\\Users\\User\\AppData\\Local\\Packages\\PythonSoftwareFoundation.Python.3.11_qbz5n2kfra8p0\\LocalCache\\local-packages\\Python311\\site-packages\\sklearn\\metrics\\_classification.py:1531: UndefinedMetricWarning: Precision is ill-defined and being set to 0.0 in labels with no predicted samples. Use `zero_division` parameter to control this behavior.\n",
      "  _warn_prf(average, modifier, f\"{metric.capitalize()} is\", len(result))\n",
      "C:\\Users\\User\\AppData\\Local\\Packages\\PythonSoftwareFoundation.Python.3.11_qbz5n2kfra8p0\\LocalCache\\local-packages\\Python311\\site-packages\\sklearn\\metrics\\_classification.py:1531: UndefinedMetricWarning: Precision is ill-defined and being set to 0.0 in labels with no predicted samples. Use `zero_division` parameter to control this behavior.\n",
      "  _warn_prf(average, modifier, f\"{metric.capitalize()} is\", len(result))\n",
      "C:\\Users\\User\\AppData\\Local\\Packages\\PythonSoftwareFoundation.Python.3.11_qbz5n2kfra8p0\\LocalCache\\local-packages\\Python311\\site-packages\\sklearn\\metrics\\_classification.py:1531: UndefinedMetricWarning: Precision is ill-defined and being set to 0.0 in labels with no predicted samples. Use `zero_division` parameter to control this behavior.\n",
      "  _warn_prf(average, modifier, f\"{metric.capitalize()} is\", len(result))\n"
     ]
    }
   ],
   "source": [
    "# Train Model 1 (without personal details)\n",
    "print(\"Model 1 (Location Hazard Analysis):\")\n",
    "model1 = train_model(features_model1, categorical_features, num_features)"
   ]
  },
  {
   "cell_type": "code",
   "execution_count": 12,
   "metadata": {},
   "outputs": [
    {
     "name": "stdout",
     "output_type": "stream",
     "text": [
      "\n",
      "Model 2 (Personalized Risk Assessment):\n",
      "Accuracy: 0.84\n",
      "              precision    recall  f1-score   support\n",
      "\n",
      "           0       0.84      1.00      0.91       840\n",
      "           1       0.00      0.00      0.00       160\n",
      "\n",
      "    accuracy                           0.84      1000\n",
      "   macro avg       0.42      0.50      0.46      1000\n",
      "weighted avg       0.71      0.84      0.77      1000\n",
      "\n"
     ]
    },
    {
     "name": "stderr",
     "output_type": "stream",
     "text": [
      "C:\\Users\\User\\AppData\\Local\\Packages\\PythonSoftwareFoundation.Python.3.11_qbz5n2kfra8p0\\LocalCache\\local-packages\\Python311\\site-packages\\sklearn\\metrics\\_classification.py:1531: UndefinedMetricWarning: Precision is ill-defined and being set to 0.0 in labels with no predicted samples. Use `zero_division` parameter to control this behavior.\n",
      "  _warn_prf(average, modifier, f\"{metric.capitalize()} is\", len(result))\n",
      "C:\\Users\\User\\AppData\\Local\\Packages\\PythonSoftwareFoundation.Python.3.11_qbz5n2kfra8p0\\LocalCache\\local-packages\\Python311\\site-packages\\sklearn\\metrics\\_classification.py:1531: UndefinedMetricWarning: Precision is ill-defined and being set to 0.0 in labels with no predicted samples. Use `zero_division` parameter to control this behavior.\n",
      "  _warn_prf(average, modifier, f\"{metric.capitalize()} is\", len(result))\n",
      "C:\\Users\\User\\AppData\\Local\\Packages\\PythonSoftwareFoundation.Python.3.11_qbz5n2kfra8p0\\LocalCache\\local-packages\\Python311\\site-packages\\sklearn\\metrics\\_classification.py:1531: UndefinedMetricWarning: Precision is ill-defined and being set to 0.0 in labels with no predicted samples. Use `zero_division` parameter to control this behavior.\n",
      "  _warn_prf(average, modifier, f\"{metric.capitalize()} is\", len(result))\n"
     ]
    }
   ],
   "source": [
    "\n",
    "# Train Model 2 (with personal details)\n",
    "print(\"\\nModel 2 (Personalized Risk Assessment):\")\n",
    "model2 = train_model(features_model2, categorical_features_model2, num_features_model2)\n"
   ]
  },
  {
   "cell_type": "code",
   "execution_count": 13,
   "metadata": {},
   "outputs": [
    {
     "name": "stdout",
     "output_type": "stream",
     "text": [
      "Model 1 Prediction: Safe\n",
      "Probability (Safe, Snatching): [[0.67 0.33]]\n"
     ]
    }
   ],
   "source": [
    "sample_input1 = pd.DataFrame([{\n",
    "    \"mode\": \"walk\",\n",
    "    \"time\": 22,\n",
    "    \"day\": \"Friday\",\n",
    "    \"human_density\": 10,\n",
    "    \"light_condition\": 5,\n",
    "    \"loadshedding\": 1,\n",
    "    \"affected_people\": \"alone\",\n",
    "    \"nearest_thana_km\": 3.0,\n",
    "    \"nearest_market_km\": 2.5,\n",
    "    \"nearest_busy_road_km\": 1.0,\n",
    "    \"was_road_busy\": 0\n",
    "}])\n",
    "\n",
    "# Make a prediction\n",
    "pred1 = model1.predict(sample_input1)\n",
    "prob1 = model1.predict_proba(sample_input1)\n",
    "\n",
    "print(\"Model 1 Prediction:\", \"Snatching Likely\" if pred1[0] == 1 else \"Safe\")\n",
    "print(\"Probability (Safe, Snatching):\", prob1)\n"
   ]
  },
  {
   "cell_type": "code",
   "execution_count": 14,
   "metadata": {},
   "outputs": [
    {
     "name": "stdout",
     "output_type": "stream",
     "text": [
      "Model 2 Prediction: Safe\n",
      "Probability (Safe, Snatching): [[0.74 0.26]]\n"
     ]
    }
   ],
   "source": [
    "sample_input2 = pd.DataFrame([{\n",
    "    \"mode\": \"walk\",\n",
    "    \"time\": 22,\n",
    "    \"day\": \"Friday\",\n",
    "    \"human_density\": 10,\n",
    "    \"light_condition\": 5,\n",
    "    \"loadshedding\": 1,\n",
    "    \"affected_people\": \"alone\",\n",
    "    \"nearest_thana_km\": 3.0,\n",
    "    \"nearest_market_km\": 2.5,\n",
    "    \"nearest_busy_road_km\": 1.0,\n",
    "    \"was_road_busy\": 0,\n",
    "    \"dress\": \"attractive\",\n",
    "    \"age\": 25,\n",
    "    \"gender\": \"Male\",\n",
    "    \"financial_status\": 8\n",
    "}])\n",
    "\n",
    "# Make a prediction\n",
    "pred2 = model2.predict(sample_input2)\n",
    "prob2 = model2.predict_proba(sample_input2)\n",
    "\n",
    "print(\"Model 2 Prediction:\", \"Snatching Likely\" if pred2[0] == 1 else \"Safe\")\n",
    "print(\"Probability (Safe, Snatching):\", prob2)\n"
   ]
  }
 ],
 "metadata": {
  "kernelspec": {
   "display_name": "Python 3",
   "language": "python",
   "name": "python3"
  },
  "language_info": {
   "codemirror_mode": {
    "name": "ipython",
    "version": 3
   },
   "file_extension": ".py",
   "mimetype": "text/x-python",
   "name": "python",
   "nbconvert_exporter": "python",
   "pygments_lexer": "ipython3",
   "version": "3.11.9"
  }
 },
 "nbformat": 4,
 "nbformat_minor": 2
}
